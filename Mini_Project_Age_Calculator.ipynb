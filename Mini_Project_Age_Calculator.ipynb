{
  "nbformat": 4,
  "nbformat_minor": 0,
  "metadata": {
    "colab": {
      "provenance": []
    },
    "kernelspec": {
      "name": "python3",
      "display_name": "Python 3"
    },
    "language_info": {
      "name": "python"
    }
  },
  "cells": [
    {
      "cell_type": "code",
      "execution_count": null,
      "metadata": {
        "colab": {
          "base_uri": "https://localhost:8080/"
        },
        "id": "MumM1Z4ULDBR",
        "outputId": "950bd663-d7a7-4fde-d5bd-b5a1b33c645f"
      },
      "outputs": [
        {
          "output_type": "stream",
          "name": "stdout",
          "text": [
            "Enter the year you were born - 2003\n",
            "Enter the current year - 2025\n",
            "Your age is: 22\n"
          ]
        },
        {
          "output_type": "execute_result",
          "data": {
            "text/plain": [
              "22"
            ]
          },
          "metadata": {},
          "execution_count": 2
        }
      ],
      "source": [
        "def age_calculator (birth_year):\n",
        "  current_year =  int(input(\"Enter the current year - \"))\n",
        "  age = current_year - birth_year\n",
        "  print(\"Your age is:\", age)\n",
        "  return age\n",
        "\n",
        "birth_year = int(input(\"Enter the year you were born - \"))\n",
        "age_calculator(birth_year)"
      ]
    }
  ]
}