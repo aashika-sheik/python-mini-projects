{
  "nbformat": 4,
  "nbformat_minor": 0,
  "metadata": {
    "colab": {
      "provenance": []
    },
    "kernelspec": {
      "name": "python3",
      "display_name": "Python 3"
    },
    "language_info": {
      "name": "python"
    }
  },
  "cells": [
    {
      "cell_type": "code",
      "execution_count": null,
      "metadata": {
        "colab": {
          "base_uri": "https://localhost:8080/"
        },
        "id": "5haLMv9yD15q",
        "outputId": "3950c9d7-7c2f-4610-b5c9-8f60a02945f9"
      },
      "outputs": [
        {
          "output_type": "stream",
          "name": "stdout",
          "text": [
            "Enter the weight in kg - 70\n",
            "Enter the height in m - 250\n",
            "Underweight\n"
          ]
        },
        {
          "output_type": "execute_result",
          "data": {
            "text/plain": [
              "0.00112"
            ]
          },
          "metadata": {},
          "execution_count": 6
        }
      ],
      "source": [
        "\n",
        "\n",
        "def bmi_cal(weight,height):\n",
        "  bmi = weight/height**2\n",
        "\n",
        "  if (bmi<18.5):\n",
        "    print(\"Underweight\")\n",
        "  elif(bmi>= 18.5 and bmi <=24.9):\n",
        "    print(\"Normal\")\n",
        "  elif(bmi>= 25 and bmi <= 29.9):\n",
        "    print(\"Overweight\")\n",
        "  else:\n",
        "    print(\"Obese\")\n",
        "  return bmi\n",
        "\n",
        "weight = float(input(\"Enter the weight in kg - \"))\n",
        "height = float(input(\"Enter the height in m - \"))\n",
        "\n",
        "bmi_cal(weight,height)\n",
        "\n",
        "\n"
      ]
    }
  ]
}