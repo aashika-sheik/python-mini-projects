{
  "nbformat": 4,
  "nbformat_minor": 0,
  "metadata": {
    "colab": {
      "provenance": []
    },
    "kernelspec": {
      "name": "python3",
      "display_name": "Python 3"
    },
    "language_info": {
      "name": "python"
    }
  },
  "cells": [
    {
      "cell_type": "markdown",
      "source": [
        "**Banking Application**  \n",
        "   - Class `Account`: attributes `account_number`, `balance`.  \n",
        "   - Methods: `deposit`, `withdraw`, `get_balance`.  \n",
        "   - Add error handling for insufficient balance.  \n",
        "\n"
      ],
      "metadata": {
        "id": "wvfFdt5ZFKZz"
      }
    },
    {
      "cell_type": "code",
      "execution_count": 3,
      "metadata": {
        "colab": {
          "base_uri": "https://localhost:8080/"
        },
        "id": "w-VJ4hnyFJ4r",
        "outputId": "8851e921-3a98-4830-b86a-57fc6cba0fe4"
      },
      "outputs": [
        {
          "output_type": "stream",
          "name": "stdout",
          "text": [
            "Current Balance: 1000\n",
            "Deposited: 200\n",
            "Current Balance after deposit: 1200\n",
            "Withdrawn: 500\n",
            "Current Balance after withdrawal: 700\n",
            "Insufficient balance.\n",
            "Current Balance: 700\n"
          ]
        }
      ],
      "source": [
        "class Account:\n",
        "    def __init__(self, account_number, balance):\n",
        "        self.account_number = account_number\n",
        "        self.balance = balance\n",
        "\n",
        "    def deposit(self, amount):\n",
        "        if amount > 0:\n",
        "            self.balance += amount\n",
        "            print(f\"Deposited: {amount}\")\n",
        "            print(f\"Current Balance after deposit: {self.balance}\")\n",
        "        else:\n",
        "            print(\"Deposit amount must be positive.\")\n",
        "\n",
        "    def withdraw(self, amount):\n",
        "        if amount <= 0:\n",
        "            print(\"Withdrawal amount must be positive.\")\n",
        "        elif amount > self.balance:\n",
        "            print(\"Insufficient balance.\")\n",
        "        else:\n",
        "            self.balance -= amount\n",
        "            print(f\"Withdrawn: {amount}\")\n",
        "            print(f\"Current Balance after withdrawal: {self.balance}\")\n",
        "\n",
        "    def get_balance(self):\n",
        "        print(f\"Current Balance: {self.balance}\")\n",
        "\n",
        "my_account = Account(101, 1000)\n",
        "my_account.get_balance()\n",
        "my_account.deposit(200)\n",
        "my_account.withdraw(500)\n",
        "my_account.withdraw(800)\n",
        "my_account.get_balance()\n"
      ]
    },
    {
      "cell_type": "markdown",
      "source": [],
      "metadata": {
        "id": "MRwYaLO0FWec"
      }
    }
  ]
}