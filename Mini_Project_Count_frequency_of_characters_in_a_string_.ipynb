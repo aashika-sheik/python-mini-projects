{
  "nbformat": 4,
  "nbformat_minor": 0,
  "metadata": {
    "colab": {
      "provenance": []
    },
    "kernelspec": {
      "name": "python3",
      "display_name": "Python 3"
    },
    "language_info": {
      "name": "python"
    }
  },
  "cells": [
    {
      "cell_type": "code",
      "execution_count": null,
      "metadata": {
        "colab": {
          "base_uri": "https://localhost:8080/"
        },
        "id": "yYTTEF8qMu2Z",
        "outputId": "189e5ad5-cd05-4bc6-bb3a-84f1a8afdb0a"
      },
      "outputs": [
        {
          "name": "stdout",
          "output_type": "stream",
          "text": [
            "Enter the string:aashika\n"
          ]
        },
        {
          "output_type": "execute_result",
          "data": {
            "text/plain": [
              "{'a': 3, 's': 1, 'h': 1, 'i': 1, 'k': 1}"
            ]
          },
          "metadata": {},
          "execution_count": 3
        }
      ],
      "source": [
        "def frequency (string):\n",
        "  temp = { }\n",
        "  for i in string:\n",
        "    if i in temp:\n",
        "      temp[i] = temp[i] + 1\n",
        "    else:\n",
        "      temp[i] = 1\n",
        "  #print(\"Character Frequency:\", temp)\n",
        "  return temp\n",
        "\n",
        "string = input(\"Enter the string:\")\n",
        "frequency(string)"
      ]
    }
  ]
}