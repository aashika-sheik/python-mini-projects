{
  "nbformat": 4,
  "nbformat_minor": 0,
  "metadata": {
    "colab": {
      "provenance": []
    },
    "kernelspec": {
      "name": "python3",
      "display_name": "Python 3"
    },
    "language_info": {
      "name": "python"
    }
  },
  "cells": [
    {
      "cell_type": "markdown",
      "source": [
        "**Custom Math Module**\n",
        "\n",
        "**Question:**\n",
        "\n",
        "Create a custom Python module math_utils.py containing the following functions:\n",
        "\n",
        "factorial(n) → recursive implementation.\n",
        "\n",
        "is_prime(n) → function to check if a number is prime.\n",
        "\n",
        "power(base, exp) → function to calculate base^exp.\n",
        "\n",
        "Import this module into another Python file (main.py) and demonstrate usage of each function.\n",
        "\n",
        "**Description:**\n",
        "\n",
        "This project introduces the concept of creating reusable modules. It simulates how standard libraries work and helps understand modular programming in Python."
      ],
      "metadata": {
        "id": "d4TopB9As3d0"
      }
    },
    {
      "cell_type": "code",
      "source": [
        "\n",
        "with open(\"math_utils.py\", \"w\") as f:\n",
        "    f.write(\"\"\"\n",
        "import math\n",
        "\n",
        "def factorial(n):\n",
        "  if n == 0 or n == 1:\n",
        "      return 1\n",
        "  else:\n",
        "      return n * factorial(n - 1)\n",
        "\n",
        "def is_prime(n):\n",
        "    if n < 2:\n",
        "        return False\n",
        "    for i in range(2, n):\n",
        "        if n % i == 0:\n",
        "            return False\n",
        "    return True\n",
        "\n",
        "def power(base, exp):\n",
        "    return math.pow(base, exp)\n",
        "\"\"\")\n"
      ],
      "metadata": {
        "id": "FS-7OJk03hin"
      },
      "execution_count": 33,
      "outputs": []
    },
    {
      "cell_type": "code",
      "source": [
        "import math_utils\n",
        "import importlib\n",
        "importlib.reload(math_utils)\n",
        "\n",
        "n = int(input(\"Enter a number for factorial: \"))\n",
        "fact = math_utils.factorial(n)\n",
        "print(f\"The factorial of {n} is {fact}\")\n",
        "\n",
        "prime_result = math_utils.is_prime(n)\n",
        "if prime_result:\n",
        "    print(f\"{n} is a prime number\")\n",
        "else:\n",
        "    print(f\"{n} is not a prime number\")\n",
        "\n",
        "\n",
        "exp = int(input(f\"Enter exponent to raise {n} to: \"))\n",
        "power_result = math_utils.power(n, exp)\n",
        "print(f\"{n} raised to {exp} is {power_result}\")\n"
      ],
      "metadata": {
        "colab": {
          "base_uri": "https://localhost:8080/"
        },
        "id": "NhEV70993ihn",
        "outputId": "9b7df038-84a1-47fa-a9f4-0d2bfb0071f6"
      },
      "execution_count": 34,
      "outputs": [
        {
          "output_type": "stream",
          "name": "stdout",
          "text": [
            "Enter a number for factorial: 4\n",
            "The factorial of 4 is 24\n",
            "4 is not a prime number\n",
            "Enter exponent to raise 4 to: 2\n",
            "4 raised to 2 is 16.0\n"
          ]
        }
      ]
    }
  ]
}