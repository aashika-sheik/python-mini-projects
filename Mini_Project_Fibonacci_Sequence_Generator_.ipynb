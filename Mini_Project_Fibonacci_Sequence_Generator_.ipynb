{
  "nbformat": 4,
  "nbformat_minor": 0,
  "metadata": {
    "colab": {
      "provenance": []
    },
    "kernelspec": {
      "name": "python3",
      "display_name": "Python 3"
    },
    "language_info": {
      "name": "python"
    }
  },
  "cells": [
    {
      "cell_type": "markdown",
      "source": [
        "**Description:**\n",
        "\n",
        "This project introduces functions with loops. Fibonacci numbers are widely used in coding interviews and problem-solving practice.\n",
        "\n",
        "**Question:**\n",
        "\n",
        "Write a function to generate and print the first n terms of the Fibonacci sequence."
      ],
      "metadata": {
        "id": "qv-z7NxNz8z-"
      }
    },
    {
      "cell_type": "code",
      "execution_count": 3,
      "metadata": {
        "colab": {
          "base_uri": "https://localhost:8080/"
        },
        "id": "cbUwon4zzzMv",
        "outputId": "ad2ef1fc-d38d-4975-fbbe-618353d1e80c"
      },
      "outputs": [
        {
          "output_type": "stream",
          "name": "stdout",
          "text": [
            "Enter the value of n : 5\n",
            "0 1 1 2 3 5 "
          ]
        }
      ],
      "source": [
        "def fibonnaci (n):\n",
        "  a = 0\n",
        "  b = 1\n",
        "  print(a, b, end=\" \")\n",
        "  for i in range (2,n+1):\n",
        "    c = a + b\n",
        "    print(c, end=\" \")\n",
        "    a = b\n",
        "    b = c\n",
        "\n",
        "n = int (input(\"Enter the value of n : \"))\n",
        "fibonnaci (n)\n",
        "\n"
      ]
    }
  ]
}