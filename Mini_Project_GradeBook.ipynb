{
  "nbformat": 4,
  "nbformat_minor": 0,
  "metadata": {
    "colab": {
      "provenance": []
    },
    "kernelspec": {
      "name": "python3",
      "display_name": "Python 3"
    },
    "language_info": {
      "name": "python"
    }
  },
  "cells": [
    {
      "cell_type": "markdown",
      "source": [
        "Nested Dictionary Gradebook\n",
        "\n",
        "Input: Student names and marks for 3 subjects\n",
        "\n",
        "Output: Average marks and grade for each student"
      ],
      "metadata": {
        "id": "EdxWLlk83PS_"
      }
    },
    {
      "cell_type": "code",
      "execution_count": 7,
      "metadata": {
        "colab": {
          "base_uri": "https://localhost:8080/"
        },
        "id": "-BDSh8eT3N4V",
        "outputId": "180f0144-d67a-4ea2-ca56-5c7426969657"
      },
      "outputs": [
        {
          "output_type": "stream",
          "name": "stdout",
          "text": [
            "Enter the student name and marks{     \"Alice\": {\"Math\": 90, \"Physics\": 85, \"Chemistry\": 92},     \"Bob\": {\"Math\": 70, \"Physics\": 75, \"Chemistry\": 80}, }\n",
            "89.0 is you're average mark and you're grade is B\n",
            "75.0 is you're average mark and you're grade is B\n"
          ]
        }
      ],
      "source": [
        "def grade(students):\n",
        "  for students,marks in students.items():\n",
        "    avg = sum(marks.values())/len(marks)\n",
        "    if avg >= 90:\n",
        "      print(f\"{avg} is you're average mark and you're grade is A\")\n",
        "    elif avg >= 75:\n",
        "      print(f\"{avg} is you're average mark and you're grade is B\")\n",
        "    elif avg >= 50:\n",
        "      print(f\"{avg} is you're average mark and you're grade is C\")\n",
        "    else:\n",
        "      print(f\"{avg} is you're average mark and you're grade is F\")\n",
        "\n",
        "\n",
        "students = eval(input(\"Enter the student name and marks\"))\n",
        "grade(students)"
      ]
    }
  ]
}