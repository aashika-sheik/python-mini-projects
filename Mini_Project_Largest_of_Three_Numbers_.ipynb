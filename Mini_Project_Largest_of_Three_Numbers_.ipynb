{
  "nbformat": 4,
  "nbformat_minor": 0,
  "metadata": {
    "colab": {
      "provenance": []
    },
    "kernelspec": {
      "name": "python3",
      "display_name": "Python 3"
    },
    "language_info": {
      "name": "python"
    }
  },
  "cells": [
    {
      "cell_type": "markdown",
      "source": [
        "**Description:**\n",
        "\n",
        "This project asks you to use if-elif-else conditions to compare three numbers and determine which one is the largest. This strengthens your understanding of decision-making in Python.\n",
        "\n",
        "**Question:**\n",
        "\n",
        "Write a program to input three numbers and print the largest among them."
      ],
      "metadata": {
        "id": "AjeaiICnqaJB"
      }
    },
    {
      "cell_type": "code",
      "execution_count": 1,
      "metadata": {
        "colab": {
          "base_uri": "https://localhost:8080/"
        },
        "id": "roc82vtXqSaJ",
        "outputId": "1dd35bc3-7da0-4e94-ad7a-c6cd4320f61f"
      },
      "outputs": [
        {
          "output_type": "stream",
          "name": "stdout",
          "text": [
            "Enter the three numbers with space2 3 4\n",
            "4 is greator than 2 and 3\n"
          ]
        }
      ],
      "source": [
        "def compare (num1,num2,num3):\n",
        "  if(num1>num2 and num1>num3):\n",
        "    print(f\"{num1} is greator than {num2} and {num3}\")\n",
        "  elif(num2>num1 and num2>num3):\n",
        "    print(f\"{num2} is greator than {num1} and {num3}\")\n",
        "  else:\n",
        "    print(f\"{num3} is greator than {num1} and {num2}\")\n",
        "\n",
        "num1,num2,num3 = map(int,input(\"Enter the three numbers with space\").split())\n",
        "compare(num1,num2,num3)"
      ]
    }
  ]
}