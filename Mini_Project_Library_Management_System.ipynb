{
  "nbformat": 4,
  "nbformat_minor": 0,
  "metadata": {
    "colab": {
      "provenance": []
    },
    "kernelspec": {
      "name": "python3",
      "display_name": "Python 3"
    },
    "language_info": {
      "name": "python"
    }
  },
  "cells": [
    {
      "cell_type": "markdown",
      "source": [
        " **Library Management System**  \n",
        "   Create classes `Book` and `Library`.  \n",
        "   - Book has attributes: title, author, and availability.  \n",
        "   - Library can add books, lend books, and display available books.  \n"
      ],
      "metadata": {
        "id": "_I6PmBZu_Jka"
      }
    },
    {
      "cell_type": "code",
      "execution_count": 6,
      "metadata": {
        "colab": {
          "base_uri": "https://localhost:8080/"
        },
        "id": "Vzx9LBQT_IVi",
        "outputId": "48bab095-6598-4514-c548-938ea26b47d4"
      },
      "outputs": [
        {
          "output_type": "stream",
          "name": "stdout",
          "text": [
            "Book added: Harry Potter\n",
            "Book added: The Hobbit\n",
            "Available Books:\n",
            "- Harry Potter by J.K. Rowling\n",
            "- The Hobbit by J.R.R. Tolkien\n",
            "You borrowed: Harry Potter\n",
            "Available Books:\n",
            "- The Hobbit by J.R.R. Tolkien\n"
          ]
        }
      ],
      "source": [
        "\n",
        "class Book:\n",
        "    def __init__(self, title, author):\n",
        "        self.title = title\n",
        "        self.author = author\n",
        "        self.available = True\n",
        "\n",
        "\n",
        "class Library:\n",
        "    def __init__(self):\n",
        "        self.books = []\n",
        "\n",
        "    def add_book(self, book):\n",
        "        self.books.append(book)\n",
        "        print(f\"Book added: {book.title}\")\n",
        "\n",
        "    def lend_book(self, title):\n",
        "        for book in self.books:\n",
        "            if book.title == title:\n",
        "                if book.available:\n",
        "                    book.available = False\n",
        "                    print(f\"You borrowed: {book.title}\")\n",
        "                    return\n",
        "                else:\n",
        "                    print(f\"{book.title} is not available\")\n",
        "                    return\n",
        "        print(\"Book not found\")\n",
        "\n",
        "    def show_available_books(self):\n",
        "        print(\"Available Books:\")\n",
        "        for book in self.books:\n",
        "            if book.available:\n",
        "                print(f\"- {book.title} by {book.author}\")\n",
        "\n",
        "\n",
        "my_library = Library()\n",
        "\n",
        "book1 = Book(\"Harry Potter\", \"J.K. Rowling\")\n",
        "book2 = Book(\"The Hobbit\", \"J.R.R. Tolkien\")\n",
        "\n",
        "my_library.add_book(book1)\n",
        "my_library.add_book(book2)\n",
        "\n",
        "\n",
        "my_library.show_available_books()\n",
        "\n",
        "my_library.lend_book(\"Harry Potter\")\n",
        "\n",
        "\n",
        "my_library.show_available_books()\n"
      ]
    },
    {
      "cell_type": "markdown",
      "source": [
        "\n"
      ],
      "metadata": {
        "id": "9-DHFhreAYh1"
      }
    }
  ]
}