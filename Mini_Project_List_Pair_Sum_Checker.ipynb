{
  "nbformat": 4,
  "nbformat_minor": 0,
  "metadata": {
    "colab": {
      "provenance": []
    },
    "kernelspec": {
      "name": "python3",
      "display_name": "Python 3"
    },
    "language_info": {
      "name": "python"
    }
  },
  "cells": [
    {
      "cell_type": "markdown",
      "source": [
        "List Pair Sum Checker\n",
        "\n",
        "Input: List of numbers\n",
        "\n",
        "Output: Print all pairs whose sum is even"
      ],
      "metadata": {
        "id": "FpNFqraioXiF"
      }
    },
    {
      "cell_type": "code",
      "execution_count": 8,
      "metadata": {
        "colab": {
          "base_uri": "https://localhost:8080/"
        },
        "id": "wVpf2UfDoRPx",
        "outputId": "9623eec1-759f-4da8-970e-725f9e0ced55"
      },
      "outputs": [
        {
          "output_type": "stream",
          "name": "stdout",
          "text": [
            "Enter the list 1 2 3 4\n",
            "1 3\n",
            "2 4\n"
          ]
        }
      ],
      "source": [
        "def checker(lst):\n",
        "  a=len(lst)\n",
        "  for i in range(a):\n",
        "    for j in range(i+1,a):\n",
        "      if(lst[i]+lst[j] )%2 == 0:\n",
        "        print(lst[i],lst[j])\n",
        "lst = list(map(int,input(\"Enter the list \").split()))\n",
        "checker(lst)\n"
      ]
    }
  ]
}