{
  "nbformat": 4,
  "nbformat_minor": 0,
  "metadata": {
    "colab": {
      "provenance": []
    },
    "kernelspec": {
      "name": "python3",
      "display_name": "Python 3"
    },
    "language_info": {
      "name": "python"
    }
  },
  "cells": [
    {
      "cell_type": "markdown",
      "source": [
        "Merge Dictionaries with Summed Values\n",
        "\n",
        "Input: Two dictionaries\n",
        "\n",
        "Output: Merged dictionary with summed values for duplicate keys"
      ],
      "metadata": {
        "id": "kvs1S0NjoKmF"
      }
    },
    {
      "cell_type": "code",
      "execution_count": 1,
      "metadata": {
        "colab": {
          "base_uri": "https://localhost:8080/"
        },
        "id": "6xEGEq4toDRc",
        "outputId": "287d0a62-2e1d-416a-952c-5d84be0f1bc2"
      },
      "outputs": [
        {
          "output_type": "stream",
          "name": "stdout",
          "text": [
            "Enter the Dictionary 1 value : {'a': 10, 'b': 5}\n",
            "Enter the Dictionary 2 value : {'b': 15, 'c': 20}\n",
            "{'a': 10, 'b': 20, 'c': 20}\n"
          ]
        }
      ],
      "source": [
        "def sum_value (dict1,dict2):\n",
        "  temp = dict1.copy()\n",
        "  for i in dict2:\n",
        "    if i in temp:\n",
        "      temp[i] += dict2[i]\n",
        "    else:\n",
        "      temp[i] = dict2[i]\n",
        "  print(temp)\n",
        "\n",
        "dict1 = eval(input(\"Enter the Dictionary 1 value : \"))\n",
        "dict2 = eval(input(\"Enter the Dictionary 2 value : \"))\n",
        "sum_value(dict1,dict2)"
      ]
    }
  ]
}