{
  "nbformat": 4,
  "nbformat_minor": 0,
  "metadata": {
    "colab": {
      "provenance": []
    },
    "kernelspec": {
      "name": "python3",
      "display_name": "Python 3"
    },
    "language_info": {
      "name": "python"
    }
  },
  "cells": [
    {
      "cell_type": "markdown",
      "source": [
        "\n",
        "\n",
        "**Description:**\n",
        "\n",
        "Pattern problems test your logic and nested loop skills. These problems are commonly asked in interviews to check loop handling and logical thinking.\n",
        "\n",
        "**Questions:**\n",
        "\n",
        "a) Print a pyramid pattern of *.\n",
        "\n",
        "\n",
        "\n",
        "```\n",
        "    *    \n",
        "   * *   \n",
        "  * * *  \n",
        " * * * *\n",
        "* * * * *\n",
        "\n",
        "```\n",
        "\n",
        "\n",
        "\n",
        "b) Print an inverted triangle pattern of *.\n",
        "\n",
        "\n",
        "```\n",
        "* * * * *\n",
        " * * * *\n",
        "  * * *\n",
        "   * *\n",
        "    *\n",
        "\n",
        "```\n",
        "\n"
      ],
      "metadata": {
        "id": "TTsNd9oH1_79"
      }
    },
    {
      "cell_type": "code",
      "execution_count": 2,
      "metadata": {
        "colab": {
          "base_uri": "https://localhost:8080/"
        },
        "id": "mPKxqsOP1-vc",
        "outputId": "d4b0382b-52c1-4fe2-f192-a92b746b656b"
      },
      "outputs": [
        {
          "output_type": "stream",
          "name": "stdout",
          "text": [
            "Enter number of rows: 6\n",
            "     *\n",
            "    ***\n",
            "   *****\n",
            "  *******\n",
            " *********\n",
            "***********\n"
          ]
        }
      ],
      "source": [
        "n = int(input(\"Enter number of rows: \"))\n",
        "\n",
        "for i in range(1, n + 1):\n",
        "    for j in range(n - i):\n",
        "        print(\" \", end=\"\")\n",
        "    for k in range(2*i - 1):\n",
        "        print(\"*\", end=\"\")\n",
        "    print()"
      ]
    },
    {
      "cell_type": "code",
      "source": [
        "n = int(input(\"Enter number of rows: \"))\n",
        "\n",
        "for i in range(n, 0, -1):\n",
        "    for j in range(n - i):\n",
        "        print(\" \", end=\"\")\n",
        "    for k in range(2*i - 1):\n",
        "        print(\"*\", end=\"\")\n",
        "    print()\n"
      ],
      "metadata": {
        "colab": {
          "base_uri": "https://localhost:8080/"
        },
        "id": "ReV4iBQq5Iy1",
        "outputId": "64d7cc91-3be2-4441-c8f1-66a3940c2e54"
      },
      "execution_count": 3,
      "outputs": [
        {
          "output_type": "stream",
          "name": "stdout",
          "text": [
            "Enter number of rows: 7\n",
            "*************\n",
            " ***********\n",
            "  *********\n",
            "   *******\n",
            "    *****\n",
            "     ***\n",
            "      *\n"
          ]
        }
      ]
    }
  ]
}