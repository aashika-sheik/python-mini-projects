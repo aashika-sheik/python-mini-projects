{
  "nbformat": 4,
  "nbformat_minor": 0,
  "metadata": {
    "colab": {
      "provenance": []
    },
    "kernelspec": {
      "name": "python3",
      "display_name": "Python 3"
    },
    "language_info": {
      "name": "python"
    }
  },
  "cells": [
    {
      "cell_type": "markdown",
      "source": [
        "**Description:**\n",
        "\n",
        "This project helps you practice nested loops. You will generate and print all prime numbers from 1 to 100. Prime number logic is an important basic problem-solving skill.\n",
        "\n",
        "**Question:**\n",
        "\n",
        "Write a program to print all prime numbers between 1 and 100."
      ],
      "metadata": {
        "id": "bX65jP5kxZcG"
      }
    },
    {
      "cell_type": "code",
      "execution_count": 3,
      "metadata": {
        "colab": {
          "base_uri": "https://localhost:8080/"
        },
        "id": "2XjP7jRixTpV",
        "outputId": "daaa95df-968a-4cf6-8ddf-2dcb79d79262"
      },
      "outputs": [
        {
          "output_type": "stream",
          "name": "stdout",
          "text": [
            "2 3 5 7 11 13 17 19 23 29 31 37 41 43 47 53 59 61 67 71 73 79 83 89 97 "
          ]
        }
      ],
      "source": [
        "def checker (num):\n",
        "  for i in range (2,num+1):\n",
        "    for j in range (2,i):\n",
        "      if i % j == 0 :\n",
        "        break\n",
        "    else:\n",
        "      print(i, end = \" \")\n",
        "\n",
        "checker(100)\n"
      ]
    }
  ]
}