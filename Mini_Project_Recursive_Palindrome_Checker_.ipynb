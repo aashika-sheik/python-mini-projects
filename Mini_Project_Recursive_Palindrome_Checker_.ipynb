{
  "nbformat": 4,
  "nbformat_minor": 0,
  "metadata": {
    "colab": {
      "provenance": []
    },
    "kernelspec": {
      "name": "python3",
      "display_name": "Python 3"
    },
    "language_info": {
      "name": "python"
    }
  },
  "cells": [
    {
      "cell_type": "markdown",
      "source": [
        "**Recursive Palindrome Checker**\n",
        "\n",
        "**Question:**\n",
        "\n",
        "Write a recursive function that checks if a given string is a palindrome.\n",
        "Example:\n",
        "\n",
        "**Input:**  \n",
        "\"madam\" → Output: Palindrome\n",
        "\n",
        "**Input:**  \n",
        "\"python\" → Output: Not Palindrome\n",
        "\n",
        "**Description:**\n",
        "This project focuses on recursion and string manipulation. It helps develop problem-solving skills by breaking down a problem into smaller sub-problems."
      ],
      "metadata": {
        "id": "78hXocAk8Tt-"
      }
    },
    {
      "cell_type": "code",
      "source": [
        "def palindrome(s):\n",
        "  if len(s) <= 1:\n",
        "    return True\n",
        "  if s[0] != s[-1]:\n",
        "    return False\n",
        "  return palindrome(s[1:-1])\n",
        "\n",
        "\n",
        "string = input(\"Enter the string: \")\n",
        "if palindrome(string) :\n",
        "  print(f\"{string} is a Palindrome\")\n",
        "else:\n",
        "  print(f\"{string} is a not Palindrome\")\n"
      ],
      "metadata": {
        "colab": {
          "base_uri": "https://localhost:8080/"
        },
        "id": "a0Lx_EbfMFus",
        "outputId": "e41fffaa-726b-400c-9d5f-086c89579041"
      },
      "execution_count": 7,
      "outputs": [
        {
          "output_type": "stream",
          "name": "stdout",
          "text": [
            "Enter the string: madam\n",
            "madam is a Palindrome\n"
          ]
        }
      ]
    }
  ]
}