{
  "nbformat": 4,
  "nbformat_minor": 0,
  "metadata": {
    "colab": {
      "provenance": []
    },
    "kernelspec": {
      "name": "python3",
      "display_name": "Python 3"
    },
    "language_info": {
      "name": "python"
    }
  },
  "cells": [
    {
      "cell_type": "markdown",
      "source": [
        "**Safe Calculator with Error Handling **\n",
        "\n",
        "**Description:**\n",
        "\n",
        "Program asks for two numbers and an operator.\n",
        "\n",
        "Handles errors like invalid input, division by zero, etc.\n",
        "\n",
        "Logs all errors in calc_errors.log.\n",
        "\n"
      ],
      "metadata": {
        "id": "q6wl3JwJzpJM"
      }
    },
    {
      "cell_type": "code",
      "execution_count": 7,
      "metadata": {
        "colab": {
          "base_uri": "https://localhost:8080/"
        },
        "id": "ASrkrIq6zoUo",
        "outputId": "c1529a26-36a8-435f-ebc6-c770b3e32a0f"
      },
      "outputs": [
        {
          "output_type": "stream",
          "name": "stdout",
          "text": [
            "Enter first number: 2\n",
            "Enter second number: 0\n",
            "Enter operator (+, -, *, /): /\n",
            "An error occurred. Please check calc_errors.log for details.\n"
          ]
        }
      ],
      "source": [
        "def safe_calculator(a, b, op):\n",
        "    try:\n",
        "        if op == \"+\":\n",
        "            return a + b\n",
        "        elif op == \"-\":\n",
        "            return a - b\n",
        "        elif op == \"*\":\n",
        "            return a * b\n",
        "        elif op == \"/\":\n",
        "            return a / b\n",
        "        else:\n",
        "            raise ValueError(\"Invalid operator\")\n",
        "    except Exception as e:\n",
        "        with open(\"calc_errors.log\", \"a\") as f:\n",
        "            f.write(f\"Error: {e}\\n\")\n",
        "        print(\"An error occurred. Please check calc_errors.log for details.\")\n",
        "        return None\n",
        "\n",
        "\n",
        "try:\n",
        "    x = float(input(\"Enter first number: \"))\n",
        "    y = float(input(\"Enter second number: \"))\n",
        "    operator = input(\"Enter operator (+, -, *, /): \")\n",
        "    result = safe_calculator(x, y, operator)\n",
        "    if result is not None:\n",
        "        print(\"Result:\", result)\n",
        "except ValueError:\n",
        "    print(\"Invalid number entered!\")\n"
      ]
    },
    {
      "cell_type": "code",
      "source": [
        "with open(\"calc_errors.log\", \"r\") as f:\n",
        "    print(f.read())\n"
      ],
      "metadata": {
        "colab": {
          "base_uri": "https://localhost:8080/"
        },
        "id": "QR-Kj0dQXsSQ",
        "outputId": "68d472a4-8b5d-4ada-f544-b3afa7f0dd30"
      },
      "execution_count": 8,
      "outputs": [
        {
          "output_type": "stream",
          "name": "stdout",
          "text": [
            "Error: float division by zero\n",
            "Error: float division by zero\n",
            "Error: float division by zero\n",
            "\n"
          ]
        }
      ]
    }
  ]
}