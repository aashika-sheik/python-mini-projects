{
  "nbformat": 4,
  "nbformat_minor": 0,
  "metadata": {
    "colab": {
      "provenance": []
    },
    "kernelspec": {
      "name": "python3",
      "display_name": "Python 3"
    },
    "language_info": {
      "name": "python"
    }
  },
  "cells": [
    {
      "cell_type": "code",
      "execution_count": null,
      "metadata": {
        "colab": {
          "base_uri": "https://localhost:8080/"
        },
        "id": "A9wIWSwePSet",
        "outputId": "81995d38-d0ed-4988-83cd-c74bed0c38a1"
      },
      "outputs": [
        {
          "output_type": "stream",
          "name": "stdout",
          "text": [
            "Enter the first number: 2\n",
            "Enter the second number: 5\n",
            "The addition of 2.0 and 5.0 - 7.0\n",
            "The subtraction of 2.0 and 5.0 - -3.0\n",
            "The multiplication of 2.0 and 5.0 - 10.0\n",
            "The division between 2.0 and 5.0 - 0.4\n",
            "The floor division between 2.0 and 5.0 - 0.0\n",
            "The modulo between 2.0 and 5.0 - 2.0\n"
          ]
        }
      ],
      "source": [
        "def calculator(num1, num2):\n",
        "    print(f\"The addition of {num1} and {num2} - {num1 + num2}\")\n",
        "    print(f\"The subtraction of {num1} and {num2} - {num1 - num2}\")\n",
        "    print(f\"The multiplication of {num1} and {num2} - {num1 * num2}\")\n",
        "    print(f\"The division between {num1} and {num2} - {num1 / num2}\")\n",
        "    print(f\"The floor division between {num1} and {num2} - {num1 // num2}\")\n",
        "    print(f\"The modulo between {num1} and {num2} - {num1 % num2}\")\n",
        "\n",
        "\n",
        "num1 = float(input(\"Enter the first number: \"))\n",
        "num2 = float(input(\"Enter the second number: \"))\n",
        "\n",
        "calculator(num1, num2)\n",
        "\n"
      ]
    },
    {
      "cell_type": "code",
      "source": [
        "def calculator(num1,num2):\n",
        "  operation = input(\"Enter the operationto be performed from these as given in here [addition,subtraction,multiplication,division,floordivision,modulo] : \")\n",
        "  if operation.lower()==\"addition\":\n",
        "    print(f\"The addition of {num1} and {num2} : {num1 + num2}\")\n",
        "  elif operation.lower()==\"subtraction\":\n",
        "     print(f\"The subtraction of {num1} and {num2} : {num1 - num2}\")\n",
        "  elif operation.lower()==\"multiplication\":\n",
        "    print(f\"The multiplication of {num1} and {num2} : {num1 * num2}\")\n",
        "  elif operation.lower()==\"division\":\n",
        "    print(f\"The division between {num1} and {num2} : {num1 / num2}\")\n",
        "  elif operation.lower() == \"floordivision\":\n",
        "    print(f\"The division between {num1} and {num2} : {num1 // num2}\")\n",
        "  elif operation.lower()==\"modulo\":\n",
        "    print(f\"The division between {num1} and {num2} : {num1 % num2}\")\n",
        "  else:\n",
        "    print(\"Invalid operation. Please try again.\")\n",
        "\n",
        "num1 = float(input(\"Enter the first number: \"))\n",
        "num2 = float(input(\"Enter the second number: \"))\n",
        "\n",
        "calculator(num1, num2)\n",
        "\n",
        "\n",
        "\n",
        "\n",
        "\n"
      ],
      "metadata": {
        "colab": {
          "base_uri": "https://localhost:8080/"
        },
        "id": "Oo2v96cSS8OF",
        "outputId": "8f1b606a-cba2-485e-c481-744b4c20e168"
      },
      "execution_count": null,
      "outputs": [
        {
          "output_type": "stream",
          "name": "stdout",
          "text": [
            "Enter the first number: 2\n",
            "Enter the second number: 3\n",
            "Enter the operationto be performed from these as given in here [addition,subtraction,multiplication,division,floordivision,modulo] : add\n",
            "Invalid operation. Please try again.\n"
          ]
        }
      ]
    },
    {
      "cell_type": "code",
      "source": [
        "def calculator(num1, num2):\n",
        "    operation = input(\"Enter the operation to perform [addition, subtraction, multiplication, division, floordivision, modulo]: \").lower()\n",
        "    if operation == \"addition\":\n",
        "        print(f\"The addition of {num1} and {num2} : {num1 + num2}\")\n",
        "    elif operation == \"subtraction\":\n",
        "        print(f\"The subtraction of {num1} and {num2} : {num1 - num2}\")\n",
        "    elif operation == \"multiplication\":\n",
        "        print(f\"The multiplication of {num1} and {num2} : {num1 * num2}\")\n",
        "    elif operation == \"division\":\n",
        "        print(f\"The division between {num1} and {num2} : {num1 / num2}\")\n",
        "    elif operation == \"floordivision\":\n",
        "        print(f\"The floor division between {num1} and {num2} : {num1 // num2}\")\n",
        "    elif operation == \"modulo\":\n",
        "        print(f\"The modulo between {num1} and {num2} : {num1 % num2}\")\n",
        "    else:\n",
        "        print(\"Invalid operation. Please try again.\")\n",
        "\n",
        "# User input\n",
        "num1 = float(input(\"Enter the first number: \"))\n",
        "num2 = float(input(\"Enter the second number: \"))\n",
        "\n",
        "calculator(num1, num2)\n"
      ],
      "metadata": {
        "colab": {
          "base_uri": "https://localhost:8080/"
        },
        "id": "sXc_wh32WiCw",
        "outputId": "4efeb19a-ebcf-4ac4-8cc7-936ffd91bce0"
      },
      "execution_count": null,
      "outputs": [
        {
          "output_type": "stream",
          "name": "stdout",
          "text": [
            "Enter the first number: 3\n",
            "Enter the second number: 4\n",
            "Enter the operation to perform [addition, subtraction, multiplication, division, floordivision, modulo]: addition\n",
            "The addition of 3.0 and 4.0 : 7.0\n"
          ]
        }
      ]
    }
  ]
}