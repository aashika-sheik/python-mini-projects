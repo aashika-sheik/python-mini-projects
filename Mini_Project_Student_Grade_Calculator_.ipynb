{
  "nbformat": 4,
  "nbformat_minor": 0,
  "metadata": {
    "colab": {
      "provenance": []
    },
    "kernelspec": {
      "name": "python3",
      "display_name": "Python 3"
    },
    "language_info": {
      "name": "python"
    }
  },
  "cells": [
    {
      "cell_type": "markdown",
      "source": [
        "**Student Grade Calculator**\n",
        "\n",
        "**Question:**\n",
        "\n",
        "Write a program where the user enters marks for 5 subjects. Create a function to calculate the average marks and another function to assign a grade based on the following rules:\n",
        "\n",
        "Average ≥ 90 → Grade A\n",
        "\n",
        "Average ≥ 75 → Grade B\n",
        "\n",
        "Average ≥ 50 → Grade C\n",
        "\n",
        "Else → Fail\n",
        "\n",
        "**Description:**\n",
        "\n",
        "This project practices functions, decision-making with if-elif-else, and user input handling. The goal is to modularize the program by separating average calculation and grade assignment into separate functions.Student Grade Calculator\n",
        "\n"
      ],
      "metadata": {
        "id": "-zz5qjSDosoF"
      }
    },
    {
      "cell_type": "code",
      "execution_count": 5,
      "metadata": {
        "colab": {
          "base_uri": "https://localhost:8080/"
        },
        "id": "SLErPBIun4yA",
        "outputId": "2c4fd03a-a82a-4d1c-cd70-5a806c2023cc"
      },
      "outputs": [
        {
          "output_type": "stream",
          "name": "stdout",
          "text": [
            "Enter you're 5 subject marks50 50 50 50 50\n",
            "You're average is 50.0 so, you're grade is 'GRADE C' \n"
          ]
        }
      ],
      "source": [
        "def grade_checker (marks):\n",
        "  sum_marks = sum(marks)\n",
        "  avg_marks = sum_marks/len(marks)\n",
        "  if avg_marks >= 90:\n",
        "    print(f\"You're average is {avg_marks} so, you're grade is 'GRADE A' \")\n",
        "  elif avg_marks >= 75:\n",
        "    print(f\"You're average is {avg_marks} so, you're grade is 'GRADE B' \")\n",
        "  elif avg_marks >= 50:\n",
        "    print(f\"You're average is {avg_marks} so, you're grade is 'GRADE C' \")\n",
        "  else:\n",
        "    print (f\"You're average is {avg_marks} so, sorry you 'FAILED'\" )\n",
        "\n",
        "marks = list(map(int,input(\"Enter you're 5 subject marks\").split()))\n",
        "if len(marks) != 5:\n",
        "    print(\"Error: Please enter exactly 5 marks!\")\n",
        "else:\n",
        "  grade_checker(marks)\n",
        ""
      ]
    }
  ]
}