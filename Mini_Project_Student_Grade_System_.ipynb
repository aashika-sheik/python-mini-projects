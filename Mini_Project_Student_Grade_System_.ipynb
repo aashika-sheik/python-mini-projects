{
  "nbformat": 4,
  "nbformat_minor": 0,
  "metadata": {
    "colab": {
      "provenance": []
    },
    "kernelspec": {
      "name": "python3",
      "display_name": "Python 3"
    },
    "language_info": {
      "name": "python"
    }
  },
  "cells": [
    {
      "cell_type": "markdown",
      "source": [
        "\n",
        "**Student Grade System**  \n",
        "   - Class `Student` stores name, marks in 3 subjects.  \n",
        "   - Method to calculate average and grade (A, B, C...).  \n",
        "   - Use encapsulation to hide marks, only display through method.  \n",
        "\n"
      ],
      "metadata": {
        "id": "AWCT3pM7J_BE"
      }
    },
    {
      "cell_type": "code",
      "execution_count": 2,
      "metadata": {
        "colab": {
          "base_uri": "https://localhost:8080/"
        },
        "id": "RCeM9bYZJ-Ah",
        "outputId": "d4660c4f-d9ac-4b57-84e1-8c5400c3ab10"
      },
      "outputs": [
        {
          "output_type": "stream",
          "name": "stdout",
          "text": [
            "Enter student name: aashika\n",
            "Enter marks for subject 1: 95\n",
            "Enter marks for subject 2: 90\n",
            "Enter marks for subject 3: 99\n",
            "---- STUDENT DETAILS ----\n",
            "Name: aashika\n",
            "Average Marks: 94.66666666666667\n",
            "Grade: A\n"
          ]
        }
      ],
      "source": [
        "class Student:\n",
        "  def __init__(self,name,m1,m2,m3):\n",
        "    self.name = name\n",
        "    self.__marks = [m1,m2,m3]\n",
        "  def get_average (self):\n",
        "    return sum(self.__marks) / 3\n",
        "  def get_grade (self):\n",
        "    avg = self.get_average()\n",
        "    if avg >= 90:\n",
        "      return \"A\"\n",
        "    elif avg >= 75:\n",
        "      return \"B\"\n",
        "    elif avg >= 50:\n",
        "      return \"C\"\n",
        "    else:\n",
        "      return \"F\"\n",
        "  def show_result(self):\n",
        "    print(\"---- STUDENT DETAILS ----\")\n",
        "    print(\"Name:\", self.name)\n",
        "    print(\"Average Marks:\", self.get_average())\n",
        "    print(\"Grade:\", self.get_grade())\n",
        "\n",
        "name = input(\"Enter student name: \")\n",
        "m1 = int(input(\"Enter marks for subject 1: \"))\n",
        "m2 = int(input(\"Enter marks for subject 2: \"))\n",
        "m3 = int(input(\"Enter marks for subject 3: \"))\n",
        "\n",
        "\n",
        "s1 = Student(name, m1, m2, m3)\n",
        "\n",
        "s1.show_result()\n",
        "\n",
        ""
      ]
    }
  ]
}