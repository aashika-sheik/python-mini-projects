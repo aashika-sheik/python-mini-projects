{
  "nbformat": 4,
  "nbformat_minor": 0,
  "metadata": {
    "colab": {
      "provenance": []
    },
    "kernelspec": {
      "name": "python3",
      "display_name": "Python 3"
    },
    "language_info": {
      "name": "python"
    }
  },
  "cells": [
    {
      "cell_type": "code",
      "execution_count": null,
      "metadata": {
        "colab": {
          "base_uri": "https://localhost:8080/"
        },
        "id": "AocFYBfPHNj1",
        "outputId": "2c1aa037-cd7b-4262-88f6-acbc2fceb0f8"
      },
      "outputs": [
        {
          "output_type": "stream",
          "name": "stdout",
          "text": [
            "Enter the Celsius value - 32\n",
            " The fahrenheit value is -  89.6\n",
            " The kelvin value is -  305.5\n"
          ]
        }
      ],
      "source": [
        "def fahrenheit (celsius):\n",
        "  fahrenheit = (celsius *1.8) + 32\n",
        "  print(\" The fahrenheit value is - \",fahrenheit)\n",
        "\n",
        "def kelvin (celsius):\n",
        "  kelvin = celsius + 273.15\n",
        "  print(\" The kelvin value is - \",kelvin)\n",
        "\n",
        "celsius = float(input(\"Enter the Celsius value - \"))\n",
        "fahrenheit(celsius)\n",
        "kelvin(celsius)\n"
      ]
    },
    {
      "cell_type": "code",
      "source": [
        "def conversion (celsius):\n",
        "  fahrenheit = (celsius * 1.8) + 32\n",
        "  kelvin = (celsius) + 273.15\n",
        "  print(\"The fahrenheit value is - \", fahrenheit)\n",
        "  print(\"The kelvin value is - \",kelvin)\n",
        "\n",
        "celsius = float(input(\"Enter the Celsius Value - \"))\n",
        "conversion(celsius)"
      ],
      "metadata": {
        "colab": {
          "base_uri": "https://localhost:8080/"
        },
        "id": "UD_F57FPKLne",
        "outputId": "79103f4d-6266-4ed7-f9a6-d456786aee86"
      },
      "execution_count": null,
      "outputs": [
        {
          "output_type": "stream",
          "name": "stdout",
          "text": [
            "Enter the Celsius Value - 32\n",
            "The fahrenheit value is -  89.6\n",
            "The kelvin value is -  305.15\n"
          ]
        }
      ]
    }
  ]
}