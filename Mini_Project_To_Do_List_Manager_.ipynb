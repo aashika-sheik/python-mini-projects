{
  "nbformat": 4,
  "nbformat_minor": 0,
  "metadata": {
    "colab": {
      "provenance": []
    },
    "kernelspec": {
      "name": "python3",
      "display_name": "Python 3"
    },
    "language_info": {
      "name": "python"
    }
  },
  "cells": [
    {
      "cell_type": "markdown",
      "source": [
        "**To-Do List Manager (File-Based)**\n",
        "\n",
        "**Description:**\n",
        "\n",
        "User can add tasks.\n",
        "\n",
        "Each task is saved in todo.txt.\n",
        "\n",
        "Program also displays all tasks when started.\n"
      ],
      "metadata": {
        "id": "ob3cuoj_zfVb"
      }
    },
    {
      "cell_type": "code",
      "execution_count": 13,
      "metadata": {
        "id": "MoWpDb4kzdtY"
      },
      "outputs": [],
      "source": [
        "with open (\"todo.txt\",\"w\") as f :\n",
        "  f.write (\"Wake up Early\\n\")\n",
        "  f.write (\"Sleep Early\\n\")\n",
        "  f.write (\"Learn Coding\\n\")\n",
        "  f.write (\"Walk for 30 mins\\n\")"
      ]
    },
    {
      "cell_type": "code",
      "source": [
        "with open (\"todo.txt\",\"a+\") as f :\n",
        "  task = input(\"Enter the Task to be Added:\")\n",
        "  f.write(task+ \"\\n\")\n",
        "  f.seek(0)\n",
        "  a= f.read()\n",
        "  print(a)\n",
        ""
      ],
      "metadata": {
        "colab": {
          "base_uri": "https://localhost:8080/"
        },
        "id": "AmuAdNM6SxVe",
        "outputId": "ba6fa6fc-2b49-4fa7-ba6a-8084ea5d4379"
      },
      "execution_count": 14,
      "outputs": [
        {
          "output_type": "stream",
          "name": "stdout",
          "text": [
            "Enter the Task to be Added:pray daily\n",
            "Wake up Early\n",
            "Sleep Early\n",
            "Learn Coding\n",
            "Walk for 30 mins\n",
            "pray daily\n",
            "\n"
          ]
        }
      ]
    }
  ]
}