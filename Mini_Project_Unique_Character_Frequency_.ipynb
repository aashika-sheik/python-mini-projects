{
  "nbformat": 4,
  "nbformat_minor": 0,
  "metadata": {
    "colab": {
      "provenance": []
    },
    "kernelspec": {
      "name": "python3",
      "display_name": "Python 3"
    },
    "language_info": {
      "name": "python"
    }
  },
  "cells": [
    {
      "cell_type": "markdown",
      "source": [
        "Unique Character Frequency\n",
        "\n",
        "Input: String\n",
        "\n",
        "Output: Dictionary of unique characters and their counts"
      ],
      "metadata": {
        "id": "JsYdNf4moGw0"
      }
    },
    {
      "cell_type": "code",
      "execution_count": 3,
      "metadata": {
        "colab": {
          "base_uri": "https://localhost:8080/"
        },
        "id": "qW6k7NyroEAw",
        "outputId": "28d2603c-30c6-4264-a5c3-d20e3d2bee70"
      },
      "outputs": [
        {
          "output_type": "stream",
          "name": "stdout",
          "text": [
            "Enter the String : aashik\n",
            "The charcter's that appear exactly twice -  ['a']\n"
          ]
        }
      ],
      "source": [
        "def unique (string):\n",
        "  freq = {}\n",
        "  result = []\n",
        "  for i in string:\n",
        "    if i in freq:\n",
        "      freq[i] += 1\n",
        "    else:\n",
        "      freq[i] = 1\n",
        "  for i in freq:\n",
        "    if freq[i] == 2:\n",
        "      result.append(i)\n",
        "  print(\"The charcter's that appear exactly twice - \", result)\n",
        "\n",
        "string = input(\"Enter the String : \")\n",
        "unique(string)\n"
      ]
    }
  ]
}