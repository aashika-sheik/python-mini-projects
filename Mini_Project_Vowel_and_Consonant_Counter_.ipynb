{
  "nbformat": 4,
  "nbformat_minor": 0,
  "metadata": {
    "colab": {
      "provenance": []
    },
    "kernelspec": {
      "name": "python3",
      "display_name": "Python 3"
    },
    "language_info": {
      "name": "python"
    }
  },
  "cells": [
    {
      "cell_type": "code",
      "execution_count": 4,
      "metadata": {
        "colab": {
          "base_uri": "https://localhost:8080/"
        },
        "id": "kLaxcMpiYOU2",
        "outputId": "62e0dcab-5b7a-4d2a-f9d8-d13cc2e8d213"
      },
      "outputs": [
        {
          "output_type": "stream",
          "name": "stdout",
          "text": [
            "Enter the string : aashika is a good girl\n",
            "The number of vowel's in : aashika is a good girl: 9\n",
            "The number of consonant's in : aashika is a good girl: 4\n"
          ]
        }
      ],
      "source": [
        "def count (string):\n",
        "  vowels = \"AEIOUaeiou\"\n",
        "  vowel_count = 0\n",
        "  consonant_count = 0\n",
        "  for i in string:\n",
        "    if i.isalpha():\n",
        "      if i in vowels:\n",
        "        vowel_count += 1\n",
        "    else:\n",
        "      consonant_count += 1\n",
        "\n",
        "  print(f\"The number of vowel's in : {string}: {vowel_count}\")\n",
        "  print(f\"The number of consonant's in : {string}: {consonant_count}\")\n",
        "\n",
        "string = input(\"Enter the string : \")\n",
        "count(string)"
      ]
    }
  ]
}