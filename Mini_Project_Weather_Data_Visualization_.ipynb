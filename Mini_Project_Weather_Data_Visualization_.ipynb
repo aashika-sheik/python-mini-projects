{
  "nbformat": 4,
  "nbformat_minor": 0,
  "metadata": {
    "colab": {
      "provenance": []
    },
    "kernelspec": {
      "name": "python3",
      "display_name": "Python 3"
    },
    "language_info": {
      "name": "python"
    }
  },
  "cells": [
    {
      "cell_type": "markdown",
      "source": [
        "**Weather Data Visualization**  \n",
        "   - Load weather data (temperature, humidity, rainfall) into a DataFrame.  \n",
        "   - Find hottest and coldest days.  \n",
        "   - Use Matplotlib to plot temperature trend.  \n",
        "   - Use Seaborn to create correlation heatmap of weather parameters.  "
      ],
      "metadata": {
        "id": "p_D6NJYbKx6B"
      }
    },
    {
      "cell_type": "code",
      "source": [
        "import pandas as pd\n",
        "import seaborn as sns\n",
        "import matplotlib.pyplot as plt\n",
        "\n",
        "data = {\n",
        "    'Name': ['Alice', 'Bob', 'Charlie', 'David', 'Eva'],\n",
        "    'Math': [92, 78, 85, 60, 99],\n",
        "    'Science': [88, 80, 79, 70, 95],\n",
        "    'English': [90, 75, 82, 65, 91]\n",
        "}\n",
        "\n",
        "df = pd.DataFrame(data)\n",
        "\n",
        "df['Average'] = df[['Math', 'Science', 'English']].mean(axis=1)\n",
        "\n",
        "def assign_grade(avg):\n",
        "    if avg >= 90:\n",
        "        return 'A'\n",
        "    elif avg >= 80:\n",
        "        return 'B'\n",
        "    elif avg >= 70:\n",
        "        return 'C'\n",
        "    elif avg >= 60:\n",
        "        return 'D'\n",
        "    else:\n",
        "        return 'F'\n",
        "\n",
        "df['Grade'] = df['Average'].apply(assign_grade)\n",
        "\n",
        "print(df)\n",
        "\n",
        "plt.figure(figsize=(12, 5))\n",
        "\n",
        "plt.subplot(1, 2, 1)\n",
        "sns.histplot(df[['Math', 'Science', 'English']], kde=True, bins=10)\n",
        "plt.title(\"Score Distribution Across Subjects\")\n",
        "\n",
        "plt.subplot(1, 2, 2)\n",
        "sns.boxplot(data=df[['Math', 'Science', 'English']])\n",
        "plt.title(\"Boxplot of Scores by Subject\")\n",
        "\n",
        "plt.tight_layout()\n",
        "plt.show()\n"
      ],
      "metadata": {
        "id": "oLhaO6kqK6uf"
      },
      "execution_count": null,
      "outputs": []
    }
  ]
}