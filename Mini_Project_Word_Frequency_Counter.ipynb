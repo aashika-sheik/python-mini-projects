{
  "nbformat": 4,
  "nbformat_minor": 0,
  "metadata": {
    "colab": {
      "provenance": []
    },
    "kernelspec": {
      "name": "python3",
      "display_name": "Python 3"
    },
    "language_info": {
      "name": "python"
    }
  },
  "cells": [
    {
      "cell_type": "markdown",
      "source": [
        "**Description:**\n",
        "\n",
        "This project focuses on using loops and dictionaries together. You will count the number of times each word appears in a sentence, which is useful in text processing tasks like Natural Language Processing.\n",
        "\n",
        "**Question:**\n",
        "\n",
        "Write a program to input a sentence and print the frequency of each word."
      ],
      "metadata": {
        "id": "CF-XmopcvZSf"
      }
    },
    {
      "cell_type": "code",
      "source": [
        "def  frequency (word):\n",
        "  temp = {}\n",
        "  for i in word:\n",
        "    if i in temp:\n",
        "      temp[i]+=1\n",
        "    else:\n",
        "      temp[i]=1\n",
        "  return temp\n",
        "\n",
        "word = input(\"Enter the word to check frequency : \")\n",
        "frequency(word)"
      ],
      "metadata": {
        "colab": {
          "base_uri": "https://localhost:8080/"
        },
        "id": "ZylG0xeKwpGP",
        "outputId": "78cf494c-4b7c-4661-bf9a-5ed57dddac2f"
      },
      "execution_count": 6,
      "outputs": [
        {
          "name": "stdout",
          "output_type": "stream",
          "text": [
            "Enter the word to check frequency : aashika\n"
          ]
        },
        {
          "output_type": "execute_result",
          "data": {
            "text/plain": [
              "{'a': 3, 's': 1, 'h': 1, 'i': 1, 'k': 1}"
            ]
          },
          "metadata": {},
          "execution_count": 6
        }
      ]
    }
  ]
}